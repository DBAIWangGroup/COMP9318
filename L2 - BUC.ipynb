{
 "cells": [
  {
   "cell_type": "markdown",
   "metadata": {},
   "source": [
    "# Introduction\n",
    "\n",
    "In this notebook, we implement a simpler version of the BUC (Bottom up cubing) algorithm. \n",
    "\n",
    "The original BUC algorithm is a highly optimized and practically efficient algorithm to materialize the entire data cube given a fact table. We instead experiment with a simpler version, called `BUC_rec` (BUC recursive), based on our teaching slides. The implementation here emphasize more on the conceptual simplicity rather than efficiency. \n",
    "\n",
    "Once you understand `BUC_rec`, you may try to understand `BUC` if you want to learn more by yourself. \n",
    "\n",
    "The recursive formula used in `BUC_rec` is: \n",
    "\n",
    "$$\n",
    "Cube(R, \\{A,B,C,\\ldots,M\\}) = \\bigcup_{i \\in \\{1, 2, \\ldots, m, \\text{ALL}\\}} Cube(R_i, \\{B,C,\\ldots,M\\}) \n",
    "$$\n",
    "where $R_i$ is $\\pi_{B,C,\\ldots,M}(\\sigma_{A = a_i}(R))$ and $R_{\\text{ALL}}$ is $\\pi_{B,C,\\ldots,M}(R)$."
   ]
  },
  {
   "cell_type": "code",
   "execution_count": 1,
   "metadata": {
    "collapsed": false
   },
   "outputs": [],
   "source": [
    "import sys\n",
    "import pandas as pd\n",
    "import numpy as np\n",
    "\n",
    "\n",
    "ALL = -1\n",
    "\n",
    "# DEBUG = True\n",
    "DEBUG = False\n",
    "\n",
    "##============================================================\n",
    "\n",
    "# Data file format: \n",
    "# * tab-delimited input file\n",
    "# * 1st line: dimension names and the last dimension is assumed to be the measure\n",
    "# * rest of the lines: data values. \n",
    "def read_data(filename):\n",
    "    df = pd.read_csv(filename, sep='\\t')\n",
    "    dims = df.shape[1] - 1 # the last dim is the measure\n",
    "    return (df, dims)\n",
    "\n",
    "def dump_input2(input):\n",
    "    if DEBUG: \n",
    "        print(\"\\n.. BUC_rec invoked on:\")\n",
    "        print(input)\n",
    "        print(\"......................\\n\")\n",
    "        \n",
    "# helper functions\n",
    "def project_data(input, d):\n",
    "    # Return only the d-th column of INPUT\n",
    "    return input.iloc[:, d]\n",
    "\n",
    "def select_data(input, d, val):\n",
    "    # SELECT * FROM INPUT WHERE INPUT.d = VAL\n",
    "    col_name = input.columns[d]\n",
    "    return input[input[col_name] == val]\n",
    "\n",
    "def remove_first_dim(input):\n",
    "    # Remove the first dim of the input\n",
    "    return input.iloc[:, 1:]\n",
    "\n",
    "def slice_data_dim0(input, v):\n",
    "    # syntactic sugar to get R_{ALL} in a less verbose way\n",
    "    df_temp = select_data(input, 0, v)\n",
    "    return remove_first_dim(df_temp)\n",
    "\n",
    "def output(val):\n",
    "    print('=>\\t{}'.format(val))\n"
   ]
  },
  {
   "cell_type": "code",
   "execution_count": 2,
   "metadata": {
    "collapsed": false
   },
   "outputs": [
    {
     "name": "stdout",
     "output_type": "stream",
     "text": [
      "2\n"
     ]
    },
    {
     "data": {
      "text/html": [
       "<div>\n",
       "<table border=\"1\" class=\"dataframe\">\n",
       "  <thead>\n",
       "    <tr style=\"text-align: right;\">\n",
       "      <th></th>\n",
       "      <th>A</th>\n",
       "      <th>B</th>\n",
       "      <th>M</th>\n",
       "    </tr>\n",
       "  </thead>\n",
       "  <tbody>\n",
       "    <tr>\n",
       "      <th>0</th>\n",
       "      <td>1</td>\n",
       "      <td>1</td>\n",
       "      <td>20</td>\n",
       "    </tr>\n",
       "    <tr>\n",
       "      <th>1</th>\n",
       "      <td>2</td>\n",
       "      <td>1</td>\n",
       "      <td>50</td>\n",
       "    </tr>\n",
       "    <tr>\n",
       "      <th>2</th>\n",
       "      <td>1</td>\n",
       "      <td>2</td>\n",
       "      <td>30</td>\n",
       "    </tr>\n",
       "    <tr>\n",
       "      <th>3</th>\n",
       "      <td>1</td>\n",
       "      <td>3</td>\n",
       "      <td>40</td>\n",
       "    </tr>\n",
       "  </tbody>\n",
       "</table>\n",
       "</div>"
      ],
      "text/plain": [
       "   A  B   M\n",
       "0  1  1  20\n",
       "1  2  1  50\n",
       "2  1  2  30\n",
       "3  1  3  40"
      ]
     },
     "execution_count": 2,
     "metadata": {},
     "output_type": "execute_result"
    }
   ],
   "source": [
    "data, d = read_data('./asset/a_.txt')\n",
    "print(d)\n",
    "data"
   ]
  },
  {
   "cell_type": "code",
   "execution_count": 3,
   "metadata": {
    "collapsed": false
   },
   "outputs": [
    {
     "data": {
      "text/plain": [
       "0    1\n",
       "1    2\n",
       "2    1\n",
       "3    1\n",
       "Name: A, dtype: int64"
      ]
     },
     "execution_count": 3,
     "metadata": {},
     "output_type": "execute_result"
    }
   ],
   "source": [
    "project_data(data, 0)"
   ]
  },
  {
   "cell_type": "code",
   "execution_count": 4,
   "metadata": {
    "collapsed": false
   },
   "outputs": [
    {
     "data": {
      "text/html": [
       "<div>\n",
       "<table border=\"1\" class=\"dataframe\">\n",
       "  <thead>\n",
       "    <tr style=\"text-align: right;\">\n",
       "      <th></th>\n",
       "      <th>A</th>\n",
       "      <th>B</th>\n",
       "      <th>M</th>\n",
       "    </tr>\n",
       "  </thead>\n",
       "  <tbody>\n",
       "    <tr>\n",
       "      <th>2</th>\n",
       "      <td>1</td>\n",
       "      <td>2</td>\n",
       "      <td>30</td>\n",
       "    </tr>\n",
       "  </tbody>\n",
       "</table>\n",
       "</div>"
      ],
      "text/plain": [
       "   A  B   M\n",
       "2  1  2  30"
      ]
     },
     "execution_count": 4,
     "metadata": {},
     "output_type": "execute_result"
    }
   ],
   "source": [
    "select_data(data, 1, 2)"
   ]
  },
  {
   "cell_type": "code",
   "execution_count": 5,
   "metadata": {
    "collapsed": false
   },
   "outputs": [
    {
     "data": {
      "text/html": [
       "<div>\n",
       "<table border=\"1\" class=\"dataframe\">\n",
       "  <thead>\n",
       "    <tr style=\"text-align: right;\">\n",
       "      <th></th>\n",
       "      <th>B</th>\n",
       "      <th>M</th>\n",
       "    </tr>\n",
       "  </thead>\n",
       "  <tbody>\n",
       "    <tr>\n",
       "      <th>1</th>\n",
       "      <td>1</td>\n",
       "      <td>50</td>\n",
       "    </tr>\n",
       "  </tbody>\n",
       "</table>\n",
       "</div>"
      ],
      "text/plain": [
       "   B   M\n",
       "1  1  50"
      ]
     },
     "execution_count": 5,
     "metadata": {},
     "output_type": "execute_result"
    }
   ],
   "source": [
    "slice_data_dim0(data, 2)"
   ]
  },
  {
   "cell_type": "markdown",
   "metadata": {},
   "source": [
    "Now we can implement the `buc_rec()` algorithm and test it."
   ]
  },
  {
   "cell_type": "code",
   "execution_count": 6,
   "metadata": {
    "collapsed": true
   },
   "outputs": [],
   "source": [
    "# Note that input is a DataFrame\n",
    "def buc_rec(input):\n",
    "    # Note that input is a DataFrame\n",
    "    dump_input2(input)\n",
    "    dims = input.shape[1]\n",
    "    \n",
    "    if dims == 1:\n",
    "        # only the measure dim\n",
    "        input_sum = sum( project_data(input, 0) )\n",
    "        output(input_sum)\n",
    "    else:\n",
    "        # the general case\n",
    "        dim0_vals = set(project_data(input, 0).values)\n",
    "\n",
    "        for dim0_v in dim0_vals:\n",
    "            sub_data = slice_data_dim0(input, dim0_v)\n",
    "            buc_rec(sub_data)\n",
    "        ## for R_{ALL}\n",
    "        sub_data = remove_first_dim(input)\n",
    "        buc_rec(sub_data)"
   ]
  },
  {
   "cell_type": "code",
   "execution_count": 7,
   "metadata": {
    "collapsed": false,
    "scrolled": true
   },
   "outputs": [
    {
     "name": "stdout",
     "output_type": "stream",
     "text": [
      "=>\t20\n",
      "=>\t30\n",
      "=>\t40\n",
      "=>\t90\n",
      "=>\t50\n",
      "=>\t50\n",
      "=>\t70\n",
      "=>\t30\n",
      "=>\t40\n",
      "=>\t140\n"
     ]
    }
   ],
   "source": [
    "buc_rec(data)"
   ]
  },
  {
   "cell_type": "markdown",
   "metadata": {},
   "source": [
    "With the following pivot table, we can easily see the output is correct (i.e., all the (non-empty) aggregates are computed). \n",
    "\n",
    "But did you notice anything else interesting? "
   ]
  },
  {
   "cell_type": "code",
   "execution_count": 8,
   "metadata": {
    "collapsed": false,
    "scrolled": true
   },
   "outputs": [
    {
     "data": {
      "text/html": [
       "<div>\n",
       "<table border=\"1\" class=\"dataframe\">\n",
       "  <thead>\n",
       "    <tr>\n",
       "      <th></th>\n",
       "      <th colspan=\"4\" halign=\"left\">M</th>\n",
       "    </tr>\n",
       "    <tr>\n",
       "      <th>B</th>\n",
       "      <th>1</th>\n",
       "      <th>2</th>\n",
       "      <th>3</th>\n",
       "      <th>All</th>\n",
       "    </tr>\n",
       "    <tr>\n",
       "      <th>A</th>\n",
       "      <th></th>\n",
       "      <th></th>\n",
       "      <th></th>\n",
       "      <th></th>\n",
       "    </tr>\n",
       "  </thead>\n",
       "  <tbody>\n",
       "    <tr>\n",
       "      <th>1</th>\n",
       "      <td>20.0</td>\n",
       "      <td>30.0</td>\n",
       "      <td>40.0</td>\n",
       "      <td>90.0</td>\n",
       "    </tr>\n",
       "    <tr>\n",
       "      <th>2</th>\n",
       "      <td>50.0</td>\n",
       "      <td>NaN</td>\n",
       "      <td>NaN</td>\n",
       "      <td>50.0</td>\n",
       "    </tr>\n",
       "    <tr>\n",
       "      <th>All</th>\n",
       "      <td>70.0</td>\n",
       "      <td>30.0</td>\n",
       "      <td>40.0</td>\n",
       "      <td>140.0</td>\n",
       "    </tr>\n",
       "  </tbody>\n",
       "</table>\n",
       "</div>"
      ],
      "text/plain": [
       "        M                   \n",
       "B       1     2     3    All\n",
       "A                           \n",
       "1    20.0  30.0  40.0   90.0\n",
       "2    50.0   NaN   NaN   50.0\n",
       "All  70.0  30.0  40.0  140.0"
      ]
     },
     "execution_count": 8,
     "metadata": {},
     "output_type": "execute_result"
    }
   ],
   "source": [
    "data.pivot_table(index = ['A'], columns = ['B'], aggfunc = np.sum, margins = True)"
   ]
  },
  {
   "cell_type": "markdown",
   "metadata": {},
   "source": [
    "## Exercise\n",
    "\n",
    "The above implementation is not complete in that the aggregated values are not associated with their \"coordinates\". We would like to have sth like \n",
    "\n",
    "<pre>\n",
    "1      \t1      \t=>     \t20\n",
    "1      \t2      \t=>     \t30\n",
    "1      \t3      \t=>     \t40\n",
    "1      \t*      \t=>     \t90\n",
    "2      \t1      \t=>     \t50\n",
    "2      \t*      \t=>     \t50\n",
    "*      \t1      \t=>     \t70\n",
    "*      \t2      \t=>     \t30\n",
    "*      \t3      \t=>     \t40\n",
    "*      \t*      \t=>     \t140\n",
    "</pre>"
   ]
  },
  {
   "cell_type": "markdown",
   "metadata": {},
   "source": [
    "Your task is to enhance the implementation of `buc_rec` so that you can generate the above more readable output. "
   ]
  },
  {
   "cell_type": "code",
   "execution_count": null,
   "metadata": {
    "collapsed": true
   },
   "outputs": [],
   "source": []
  },
  {
   "cell_type": "code",
   "execution_count": null,
   "metadata": {
    "collapsed": true
   },
   "outputs": [],
   "source": []
  },
  {
   "cell_type": "code",
   "execution_count": null,
   "metadata": {
    "collapsed": true
   },
   "outputs": [],
   "source": []
  },
  {
   "cell_type": "code",
   "execution_count": null,
   "metadata": {
    "collapsed": true
   },
   "outputs": [],
   "source": []
  }
 ],
 "metadata": {
  "kernelspec": {
   "display_name": "Python 3",
   "language": "python",
   "name": "python3"
  },
  "language_info": {
   "codemirror_mode": {
    "name": "ipython",
    "version": 3
   },
   "file_extension": ".py",
   "mimetype": "text/x-python",
   "name": "python",
   "nbconvert_exporter": "python",
   "pygments_lexer": "ipython3",
   "version": "3.4.5"
  }
 },
 "nbformat": 4,
 "nbformat_minor": 0
}
